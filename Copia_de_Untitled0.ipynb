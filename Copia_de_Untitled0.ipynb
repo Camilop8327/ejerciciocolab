{
  "nbformat": 4,
  "nbformat_minor": 0,
  "metadata": {
    "colab": {
      "provenance": [],
      "authorship_tag": "ABX9TyOvREzWwdrOm6R7q7IZOLgm",
      "include_colab_link": true
    },
    "kernelspec": {
      "name": "python3",
      "display_name": "Python 3"
    },
    "language_info": {
      "name": "python"
    }
  },
  "cells": [
    {
      "cell_type": "markdown",
      "metadata": {
        "id": "view-in-github",
        "colab_type": "text"
      },
      "source": [
        "<a href=\"https://colab.research.google.com/github/Camilop8327/ejerciciocolab/blob/main/Copia_de_Untitled0.ipynb\" target=\"_parent\"><img src=\"https://colab.research.google.com/assets/colab-badge.svg\" alt=\"Open In Colab\"/></a>"
      ]
    },
    {
      "cell_type": "code",
      "execution_count": null,
      "metadata": {
        "id": "h63_aez_44zH"
      },
      "outputs": [],
      "source": []
    },
    {
      "cell_type": "markdown",
      "source": [
        "#Ejercicio agregación"
      ],
      "metadata": {
        "id": "Us5a6G0T5BMo"
      }
    },
    {
      "cell_type": "code",
      "source": [
        "class Estudiante:\n",
        "  def __init__(self, nombre):\n",
        "    self.nombre = nombre\n",
        "\n",
        "class Curso:\n",
        "  def __init__(self, nombre, horario):\n",
        "    self.nombre = nombre\n",
        "    # Lista de estudiantes, que existen independientemente del curso\n",
        "    self.estudiantes = []\n",
        "    self.horario = horario\n",
        "\n",
        "  def agregar_estudiante(self, estudiante):\n",
        "    self.estudiantes.append(estudiante)\n",
        "\n",
        "  def listar_estudiantes(self):\n",
        "    print(f\"curso: {self.nombre}\")\n",
        "    for estudiante in self.estudiantes:\n",
        "      print(f\" - {estudiante.nombre}\")\n",
        "\n",
        "    print(f\"horario {self.horario}\")\n",
        "    for dia, hora in self.horario.items():\n",
        "      print(f\"- {dia}: {hora}\")\n",
        "\n",
        "\n",
        "#Crear estudiante independientemente del curso\n",
        "\n",
        "estudiante1 = Estudiante(\"Camila\")\n",
        "estudiante2 = Estudiante(\"Ana\")\n",
        "\n",
        "# Crear horario\n",
        "horario_matematicas={\n",
        "        \"Lunes\" : \"02:00 pm - 04:00 pm\",\n",
        "        \"jueves\" : \"03:00 pm - 06:00 pm\"\n",
        "    }\n",
        "\n",
        "\n",
        "# Crear un curso y agregar estudiantes del curso\n",
        "\n",
        "curso = Curso(\"Matemáticas\", horario_matematicas)\n",
        "curso.agregar_estudiante(estudiante1)\n",
        "curso.agregar_estudiante(estudiante2)\n",
        "curso.listar_estudiantes()\n",
        "\n",
        "\n"
      ],
      "metadata": {
        "colab": {
          "base_uri": "https://localhost:8080/"
        },
        "id": "fDqiOwwl5RCv",
        "outputId": "9c4b6985-0706-4ff5-cc41-9c300c569b2c"
      },
      "execution_count": null,
      "outputs": [
        {
          "output_type": "stream",
          "name": "stdout",
          "text": [
            "curso: Matemáticas\n",
            " - Camila\n",
            " - Ana\n",
            "horario {'Lunes': '02:00 pm - 04:00 pm', 'jueves': '03:00 pm - 06:00 pm'}\n",
            "- Lunes: 02:00 pm - 04:00 pm\n",
            "- jueves: 03:00 pm - 06:00 pm\n"
          ]
        }
      ]
    }
  ]
}